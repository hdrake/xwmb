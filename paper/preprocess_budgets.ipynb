{
 "cells": [
  {
   "cell_type": "code",
   "execution_count": 1,
   "id": "182a8d3a-09f8-448e-a029-d03db69bbe44",
   "metadata": {},
   "outputs": [],
   "source": [
    "%load_ext autoreload\n",
    "%autoreload 2"
   ]
  },
  {
   "cell_type": "code",
   "execution_count": 2,
   "id": "c5866f95-98d1-44e5-8391-02f90f018907",
   "metadata": {},
   "outputs": [],
   "source": [
    "import sys\n",
    "import warnings\n",
    "import numpy as np\n",
    "import xarray as xr\n",
    "import xbudget\n",
    "import regionate\n",
    "import xwmt\n",
    "import xwmb\n",
    "\n",
    "sys.path.append(\"../examples/\")\n",
    "from loading import *"
   ]
  },
  {
   "cell_type": "markdown",
   "id": "f567a74f-18de-4ed5-bbe0-a68455dc472b",
   "metadata": {},
   "source": [
    "### Hourly Conservative Temperature budget for decompositions"
   ]
  },
  {
   "cell_type": "code",
   "execution_count": 3,
   "id": "bd8b603d-d94a-462c-ad15-66d45a1d51ad",
   "metadata": {},
   "outputs": [
    {
     "name": "stderr",
     "output_type": "stream",
     "text": [
      "/work/hfd/.conda/envs/xwmb/lib/python3.10/site-packages/xarray/core/utils.py:494: FutureWarning: The return type of `Dataset.dims` will be changed to return a set of dimension names in future, in order to be more consistent with `DataArray.dims`. To access a mapping from dimension names to lengths, please use `Dataset.sizes`.\n",
      "  warnings.warn(\n",
      "/work/hfd/.conda/envs/xwmb/lib/python3.10/site-packages/xarray/core/utils.py:494: FutureWarning: The return type of `Dataset.dims` will be changed to return a set of dimension names in future, in order to be more consistent with `DataArray.dims`. To access a mapping from dimension names to lengths, please use `Dataset.sizes`.\n",
      "  warnings.warn(\n"
     ]
    }
   ],
   "source": [
    "lam = \"heat\"\n",
    "\n",
    "grid = load_baltic(\"natv\", \"hourly\")\n",
    "default_bins=True\n",
    "\n",
    "budgets_dict = xbudget.load_preset_budget(model=\"MOM6_3Donly\")\n",
    "xbudget.collect_budgets(grid, budgets_dict)\n",
    "simple_budget = xbudget.aggregate(budgets_dict)\n",
    "\n",
    "# Note: the properties of this region are quite different from the rest of the Baltic!\n",
    "name = \"intBaltic\"\n",
    "lons = np.array([8.,   20.,  29., 24.5, 24.5, 26.1, 17.5, 11.5])\n",
    "lats = np.array([53.5, 53.5, 54.5,  59.,  61.,  63., 64.5,  62.])\n",
    "region = regionate.GriddedRegion(name, lons, lats, grid)"
   ]
  },
  {
   "cell_type": "code",
   "execution_count": 4,
   "id": "61ff6271-8041-4f19-8a0b-abf54cf7efb2",
   "metadata": {},
   "outputs": [],
   "source": [
    "with warnings.catch_warnings():\n",
    "    warnings.simplefilter(action='ignore', category=FutureWarning)\n",
    "    wmb = xwmb.WaterMassBudget(\n",
    "        grid,\n",
    "        budgets_dict,\n",
    "        region\n",
    "    )\n",
    "    wmb.mass_budget(lam, default_bins=default_bins)\n",
    "    wmt = wmb.wmt\n",
    "    wmt.load()"
   ]
  },
  {
   "cell_type": "code",
   "execution_count": 5,
   "id": "5a7bdff2-783b-44c7-b332-d89e0a8d894c",
   "metadata": {
    "tags": []
   },
   "outputs": [],
   "source": [
    "wmt.to_netcdf('../paper/data/baltic_wmb_natv_hourly_for_decompositions.nc')"
   ]
  },
  {
   "cell_type": "markdown",
   "id": "73a1800e-faf2-4b91-9265-5b6779729263",
   "metadata": {},
   "source": [
    "### Repeat Hourly Conservative Temperature budget but with different bins"
   ]
  },
  {
   "cell_type": "code",
   "execution_count": 6,
   "id": "2b812154-360b-42e1-974d-06e0f4a6ffe0",
   "metadata": {},
   "outputs": [],
   "source": [
    "lam_min, lam_max, dlam = -4.173, 40., 0.273519\n",
    "\n",
    "grid_newbins = xwmt.add_gridcoords(grid, {}, {})\n",
    "grid_newbins._ds = grid_newbins._ds.assign_coords({\n",
    "    f\"thetao_l_target\" : np.arange(lam_min, lam_max, dlam),\n",
    "    f\"thetao_i_target\" : np.arange(lam_min-dlam/2., lam_max+dlam/2, dlam),\n",
    "})\n",
    "grid_newbins = xwmt.add_gridcoords(\n",
    "    grid_newbins,\n",
    "    {\"Z_target\": {\"center\": \"thetao_l_target\", \"outer\": \"thetao_i_target\"}},\n",
    "    {\"Z_target\": \"extend\"}\n",
    ")\n",
    "\n",
    "with warnings.catch_warnings():\n",
    "    warnings.simplefilter(action='ignore', category=FutureWarning)\n",
    "    wmb_newbins = xwmb.WaterMassBudget(\n",
    "        grid_newbins,\n",
    "        budgets_dict,\n",
    "        region\n",
    "    )\n",
    "    wmb_newbins.mass_budget(\"heat\")\n",
    "    wmt_newbins = wmb_newbins.wmt\n",
    "    wmt_newbins.load();"
   ]
  },
  {
   "cell_type": "code",
   "execution_count": 7,
   "id": "ca29cdcd-fdc7-42b3-8f12-c4a1c0133f0a",
   "metadata": {
    "tags": []
   },
   "outputs": [],
   "source": [
    "wmt_newbins.to_netcdf('../paper/data/baltic_wmb_natv_hourly_for_decompositions_newbins.nc')"
   ]
  },
  {
   "cell_type": "markdown",
   "id": "8d124808-1202-4c64-9a2a-baddcb79765c",
   "metadata": {},
   "source": [
    "### Maps of hourly Conservative Temperature budget"
   ]
  },
  {
   "cell_type": "code",
   "execution_count": 8,
   "id": "a2e994e7-2ed1-4ffc-ab4d-1db82da69f1b",
   "metadata": {
    "tags": []
   },
   "outputs": [],
   "source": [
    "thetao0 = 13"
   ]
  },
  {
   "cell_type": "code",
   "execution_count": 10,
   "id": "17e6ae2e-1d9c-4538-9361-874d217b51c2",
   "metadata": {},
   "outputs": [],
   "source": [
    "with warnings.catch_warnings():\n",
    "    warnings.simplefilter(action='ignore', category=FutureWarning)\n",
    "    wmb_map = xwmb.WaterMassBudget(\n",
    "        grid,\n",
    "        budgets_dict,\n",
    "        region\n",
    "    )\n",
    "    wmb_map.mass_budget(lam, integrate=False, default_bins=default_bins)"
   ]
  },
  {
   "cell_type": "code",
   "execution_count": 13,
   "id": "6fc9dc8b-27f8-4ca0-b3ab-ee0118a7d015",
   "metadata": {},
   "outputs": [],
   "source": [
    "boundary_fluxes = [\n",
    "    'surface_exchange_flux',\n",
    "    'surface_ocean_flux_advective_negative_lhs',\n",
    "    'bottom_flux',\n",
    "    'frazil_ice'\n",
    "]\n",
    "\n",
    "with warnings.catch_warnings():\n",
    "    warnings.simplefilter(action='ignore', category=FutureWarning)\n",
    "    wmt_map = wmb_map.wmt.sel(thetao_l_target=thetao0, method=\"nearest\").compute()"
   ]
  },
  {
   "cell_type": "code",
   "execution_count": 14,
   "id": "03797347-f501-4210-bbc6-8be4907d8a8d",
   "metadata": {},
   "outputs": [],
   "source": [
    "xr.merge([\n",
    "    wmt_map,\n",
    "    xr.Dataset({\"mask\":region.mask}),\n",
    "    grid._ds[['geolon_c', 'geolat_c', 'deptho']]\n",
    "]).to_netcdf(\"../paper/data/baltic_wmb_natv_hourly_maps.nc\", mode=\"w\")"
   ]
  },
  {
   "cell_type": "markdown",
   "id": "306cdd60-3815-4696-9f11-64ff8ac789f9",
   "metadata": {},
   "source": [
    "### Hourly Mass Conservative Temperature – Along-section structure of convergent mass transport term"
   ]
  },
  {
   "cell_type": "code",
   "execution_count": 57,
   "id": "d5932764-c6a6-4ced-88b9-42591038160d",
   "metadata": {},
   "outputs": [
    {
     "name": "stderr",
     "output_type": "stream",
     "text": [
      "/work/hfd/.conda/envs/xwmb/lib/python3.10/site-packages/xarray/core/utils.py:494: FutureWarning: The return type of `Dataset.dims` will be changed to return a set of dimension names in future, in order to be more consistent with `DataArray.dims`. To access a mapping from dimension names to lengths, please use `Dataset.sizes`.\n",
      "  warnings.warn(\n",
      "/work/hfd/.conda/envs/xwmb/lib/python3.10/site-packages/xarray/core/utils.py:494: FutureWarning: The return type of `Dataset.dims` will be changed to return a set of dimension names in future, in order to be more consistent with `DataArray.dims`. To access a mapping from dimension names to lengths, please use `Dataset.sizes`.\n",
      "  warnings.warn(\n"
     ]
    }
   ],
   "source": [
    "grid = load_baltic(\"natv\", \"hourly\")\n",
    "default_bins=True\n",
    "\n",
    "budgets_dict = xbudget.load_preset_budget(model=\"MOM6_3Donly\")\n",
    "xbudget.collect_budgets(grid, budgets_dict)\n",
    "simple_budget = xbudget.aggregate(budgets_dict)\n",
    "\n",
    "with warnings.catch_warnings():\n",
    "    warnings.simplefilter(action='ignore', category=FutureWarning)\n",
    "    wmb = xwmb.WaterMassBudget(\n",
    "        grid,\n",
    "        budgets_dict,\n",
    "        region\n",
    "    )\n",
    "    wmb.mass_budget(lam, default_bins=default_bins, along_section=True)"
   ]
  },
  {
   "cell_type": "code",
   "execution_count": 58,
   "id": "59904602-3e76-4026-b078-e515fe20a098",
   "metadata": {},
   "outputs": [],
   "source": [
    "ds = wmb.grid._ds\n",
    "\n",
    "lam_grid = Grid(\n",
    "    ds,\n",
    "    coords={'lam': wmb.target_coords,},\n",
    "    boundary={'lam': 'extend'},\n",
    "    autoparse_metadata=False\n",
    ")"
   ]
  },
  {
   "cell_type": "code",
   "execution_count": 59,
   "id": "86b407dd-1b8a-44ed-9e8b-3f6fa579d678",
   "metadata": {},
   "outputs": [
    {
     "name": "stderr",
     "output_type": "stream",
     "text": [
      "/work/hfd/.conda/envs/xwmb/lib/python3.10/site-packages/xarray/core/utils.py:494: FutureWarning: The return type of `Dataset.dims` will be changed to return a set of dimension names in future, in order to be more consistent with `DataArray.dims`. To access a mapping from dimension names to lengths, please use `Dataset.sizes`.\n",
      "  warnings.warn(\n"
     ]
    }
   ],
   "source": [
    "trans = lam_grid.interp(\n",
    "    ds.convergent_mass_transport_less_than,\n",
    "    \"lam\",\n",
    "    boundary=\"extend\"\n",
    ").sel(thetao_l_target=thetao0, method=\"nearest\").compute()\n",
    "trans_mask = (ds.convergent_mass_transport_less_than.isel(thetao_i_target=-1)).compute()"
   ]
  },
  {
   "cell_type": "code",
   "execution_count": 63,
   "id": "c50b91b2-c1a0-4433-b77c-50a5196ffcda",
   "metadata": {
    "tags": []
   },
   "outputs": [],
   "source": [
    "xr.Dataset({\n",
    "    \"region_lons\": xr.DataArray(region.lons, dims=(\"sect_vertices\",)),\n",
    "    \"region_lats\": xr.DataArray(region.lats, dims=(\"sect_vertices\",)),\n",
    "    \"convergent_transport\": trans,\n",
    "    \"convergent_transport_mask\": trans_mask.drop_vars(\"thetao_i_target\")\n",
    "}).to_netcdf(\"../paper/data/baltic_wmb_natv_hourly_boundary_transport.nc\")"
   ]
  },
  {
   "cell_type": "code",
   "execution_count": null,
   "id": "4aaa525b-c342-4be9-89fe-5eb3248f5885",
   "metadata": {},
   "outputs": [],
   "source": []
  }
 ],
 "metadata": {
  "kernelspec": {
   "display_name": "xwmb",
   "language": "python",
   "name": "xwmb"
  },
  "language_info": {
   "codemirror_mode": {
    "name": "ipython",
    "version": 3
   },
   "file_extension": ".py",
   "mimetype": "text/x-python",
   "name": "python",
   "nbconvert_exporter": "python",
   "pygments_lexer": "ipython3",
   "version": "3.10.13"
  }
 },
 "nbformat": 4,
 "nbformat_minor": 5
}
