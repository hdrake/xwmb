{
 "cells": [
  {
   "cell_type": "code",
   "execution_count": 150,
   "id": "182a8d3a-09f8-448e-a029-d03db69bbe44",
   "metadata": {},
   "outputs": [
    {
     "name": "stdout",
     "output_type": "stream",
     "text": [
      "The autoreload extension is already loaded. To reload it, use:\n",
      "  %reload_ext autoreload\n"
     ]
    }
   ],
   "source": [
    "%load_ext autoreload\n",
    "%autoreload 2"
   ]
  },
  {
   "cell_type": "code",
   "execution_count": 151,
   "id": "99c3a046-9435-46a6-b9c2-81becd029d93",
   "metadata": {},
   "outputs": [],
   "source": [
    "import warnings\n",
    "\n",
    "import numpy as np\n",
    "import xarray as xr\n",
    "from xgcm import Grid\n",
    "\n",
    "import matplotlib.pyplot as plt"
   ]
  },
  {
   "cell_type": "code",
   "execution_count": 152,
   "id": "0b71a055-e428-4a25-9edb-45ea25ce9b95",
   "metadata": {},
   "outputs": [],
   "source": [
    "import xwmt\n",
    "import xwmb"
   ]
  },
  {
   "cell_type": "markdown",
   "id": "2f73cabd-5dab-44f4-91de-9d8c6a0d6f92",
   "metadata": {},
   "source": [
    "### Load grids and data"
   ]
  },
  {
   "cell_type": "code",
   "execution_count": 153,
   "id": "7fe739ce-eb59-481a-b4ed-cecd56532dd9",
   "metadata": {},
   "outputs": [],
   "source": [
    "gridname = 'natv' #   choose from ['natv', 'rho2', 'zstr']\n",
    "dt = 'hourly' #       choose from ['monthly', 'daily', 'hourly']"
   ]
  },
  {
   "cell_type": "code",
   "execution_count": null,
   "id": "aa99ea92-986b-47d4-a387-1ab5dd951056",
   "metadata": {},
   "outputs": [],
   "source": [
    "# Load data on native grid\n",
    "sim = \"wmt_incsurffluxes.natv_rho2_zstr.monthly_daily_hourly.13months\"\n",
    "rootdir = f\"/archive/Graeme.Macgilchrist/MOM6-examples/ice_ocean_SIS2/Baltic_OM4_025/{sim}/Baltic_OM4_025/\"\n",
    "prefix = '19000101.ocean_'+dt+'_'\n",
    "time = \"190*\"\n",
    "#time = \"1900_02_01\"\n",
    "\n",
    "# Diagnostics were saved into different files\n",
    "suffixs = ['surf','thck','heat','salt','xtra']\n",
    "Zprefixes = {'rho2':'rho2_', 'zstr':'z_', 'natv':'z'}\n",
    "Zprefix = Zprefixes[gridname]\n",
    "ds = xr.Dataset()\n",
    "for suffix in suffixs:\n",
    "    if suffix == \"surf\":\n",
    "        filename = prefix+suffix+'_'+time+'.nc'\n",
    "    else:\n",
    "        filename = prefix+gridname+'_'+suffix+'_'+time+'.nc'\n",
    "    dsnow = xr.open_mfdataset(rootdir+filename)\n",
    "    ds = xr.merge([ds,dsnow])\n",
    "    \n",
    "# Load snapshot data (for mass tendency term)\n",
    "suffix = 'snap'\n",
    "filename = prefix+gridname+'_'+suffix+'_'+time+'.nc'\n",
    "snap = xr.open_mfdataset(rootdir+filename)\n",
    "\n",
    "# Align N+1 snapshots so they bound N averages, and select year-long subset\n",
    "ds = ds.sel(time=slice(snap.time[0], snap.time[-1]))\n",
    "ds = ds.sel(time=slice('1900-02-01 00', '1901-02-01 00'))\n",
    "snap = snap.sel(time=slice('1900-02-01 00', '1901-02-01 00'))\n",
    "\n",
    "#  Load grid\n",
    "oceangridname = '19000101.ocean_static.nc'\n",
    "ocean_grid = xr.open_dataset(rootdir+oceangridname).squeeze()\n",
    "\n",
    "# Some renaming to match hdrake conventions\n",
    "ocean_grid = ocean_grid.rename({'depth_ocean':'deptho'})\n",
    "ds = ds.rename({'temp':'thetao'})\n",
    "snap = snap.rename({'temp':'thetao'})\n",
    "\n",
    "# Merge snapshots with time-averages\n",
    "snap = snap.rename(\n",
    "    {**{'time':'time_bounds'}, **{v:f\"{v}_bounds\" for v in snap.data_vars}}\n",
    ")\n",
    "ds = xr.merge([ds, snap])\n",
    "\n",
    "# Add core coordinates of ocean_grid to ds\n",
    "ds = ds.assign_coords({\n",
    "    \"wet\": xr.DataArray(ocean_grid[\"wet\"].values, dims=('yh', 'xh',)),\n",
    "    \"areacello\": xr.DataArray(ocean_grid[\"areacello\"].values, dims=('yh', 'xh',)),\n",
    "    'xq': xr.DataArray(ocean_grid['xq'].values, dims=('xq',)),\n",
    "    'yq': xr.DataArray(ocean_grid['yq'].values, dims=('yq',)),\n",
    "    'geolon': xr.DataArray(ocean_grid['geolon'].values, dims=('yh','xh')),\n",
    "    'geolat': xr.DataArray(ocean_grid['geolat'].values, dims=('yh','xh')),\n",
    "    'geolon_u': xr.DataArray(ocean_grid['geolon_u'].values, dims=('yh','xq')),\n",
    "    'geolat_u': xr.DataArray(ocean_grid['geolat_u'].values, dims=('yh','xq')),\n",
    "    'geolon_v': xr.DataArray(ocean_grid['geolon_v'].values, dims=('yq','xh')),\n",
    "    'geolat_v': xr.DataArray(ocean_grid['geolat_v'].values, dims=('yq','xh')),\n",
    "    'geolon_c': xr.DataArray(ocean_grid['geolon_c'].values, dims=('yq','xq')),\n",
    "    'geolat_c': xr.DataArray(ocean_grid['geolat_c'].values, dims=('yq','xq')),\n",
    "    'dxCv': xr.DataArray(ocean_grid['dxCv'].values, dims=('yq', 'xh',)),\n",
    "    'dyCu': xr.DataArray(ocean_grid['dyCu'].values, dims=('yh', 'xq',)),\n",
    "    'deptho': xr.DataArray(ocean_grid['deptho'].values, dims=('yh', 'xh',)),\n",
    "})"
   ]
  },
  {
   "cell_type": "code",
   "execution_count": null,
   "id": "da5b3b64-5984-4679-ae40-d857c0331082",
   "metadata": {},
   "outputs": [],
   "source": [
    "lam = 'heat' # choose from ['temperature', 'salinity', 'sigma2']\n",
    "lambda_name = 'thetao'\n",
    "\n",
    "# Add lambda target grid coordinates\n",
    "dlam = 0.25\n",
    "ds = ds.assign_coords({\n",
    "    f\"{lambda_name}_l\" : np.arange(-2, 30, dlam),\n",
    "    f\"{lambda_name}_i\" : np.arange(-2-dlam/2., 30+dlam/2, dlam)\n",
    "})\n",
    "\n",
    "# z-coordinate dataset containing basic state variables\n",
    "coords = {\n",
    "    'X': {'center': 'xh', 'right': 'xq'},\n",
    "    'Y': {'center': 'yh', 'right': 'yq'},\n",
    "    'Z': {'center': f'{Zprefix}l', 'outer': f'{Zprefix}i'},\n",
    "    'lam': {'center': f'{lambda_name}_l', 'outer': f'{lambda_name}_i'}\n",
    "}\n",
    "metrics = {\n",
    "    ('X','Y'): \"areacello\",\n",
    "}\n",
    "grid = Grid(ds, coords=coords, metrics=metrics, periodic=None)"
   ]
  },
  {
   "cell_type": "code",
   "execution_count": null,
   "id": "83dde094-1b87-4e5d-9ab9-fac06938c6af",
   "metadata": {},
   "outputs": [],
   "source": [
    "import yaml\n",
    "\n",
    "with open(\"../conventions/MOM6.yaml\", \"r\") as stream:\n",
    "    try:\n",
    "        budgets_dict = yaml.safe_load(stream)\n",
    "    except yaml.YAMLError as exc:\n",
    "        print(exc)"
   ]
  },
  {
   "cell_type": "code",
   "execution_count": null,
   "id": "626fc654-b1e5-4b0e-974e-0321f529ea9d",
   "metadata": {},
   "outputs": [],
   "source": [
    "lons = np.array([15.,   20.,  29., 24.5, 24.5, 26.1, 17.5, 11.5])\n",
    "lats = np.array([53.5, 53.5, 54.5,  59.,  61.,  63., 64.5,  62.])\n",
    "region = (lons, lats)\n",
    "\n",
    "region = xr.ones_like(grid._ds['deptho'])\n",
    "\n",
    "wmb = xwmb.WaterMassBudget(\n",
    "    grid,\n",
    "    budgets_dict,\n",
    "    region\n",
    ")"
   ]
  },
  {
   "cell_type": "code",
   "execution_count": null,
   "id": "364ad62d-ae5c-4229-862c-3ecfcb520950",
   "metadata": {},
   "outputs": [],
   "source": [
    "import warnings\n",
    "with warnings.catch_warnings():\n",
    "    warnings.simplefilter(action='ignore', category=FutureWarning)\n",
    "    wmb.mass_budget(\"heat\")\n",
    "\n",
    "for v in wmb.wmt:\n",
    "    wmb.wmt[v].load()\n",
    "wmb.wmt.to_netcdf(f\"/work/hfd/codedev/xwmb/data/budget_{lam}_{dt}_{gridname}.nc\", mode=\"w\")"
   ]
  },
  {
   "cell_type": "code",
   "execution_count": null,
   "id": "d9d22ecf-b740-441d-a8b7-3cd22307ba8a",
   "metadata": {},
   "outputs": [],
   "source": []
  },
  {
   "cell_type": "code",
   "execution_count": null,
   "id": "3cb17831-4a86-460f-9715-43494d394bc8",
   "metadata": {},
   "outputs": [],
   "source": []
  },
  {
   "cell_type": "code",
   "execution_count": null,
   "id": "21d0bddf-52f7-4c7a-ba27-a2cc705c27cf",
   "metadata": {},
   "outputs": [],
   "source": []
  }
 ],
 "metadata": {
  "kernelspec": {
   "display_name": "Python 3 (ipykernel)",
   "language": "python",
   "name": "python3"
  },
  "language_info": {
   "codemirror_mode": {
    "name": "ipython",
    "version": 3
   },
   "file_extension": ".py",
   "mimetype": "text/x-python",
   "name": "python",
   "nbconvert_exporter": "python",
   "pygments_lexer": "ipython3",
   "version": "3.10.6"
  }
 },
 "nbformat": 4,
 "nbformat_minor": 5
}
