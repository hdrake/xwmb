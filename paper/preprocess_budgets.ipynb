{
 "cells": [
  {
   "cell_type": "code",
   "execution_count": 153,
   "id": "182a8d3a-09f8-448e-a029-d03db69bbe44",
   "metadata": {},
   "outputs": [
    {
     "name": "stdout",
     "output_type": "stream",
     "text": [
      "The autoreload extension is already loaded. To reload it, use:\n",
      "  %reload_ext autoreload\n"
     ]
    }
   ],
   "source": [
    "%load_ext autoreload\n",
    "%autoreload 2"
   ]
  },
  {
   "cell_type": "code",
   "execution_count": 154,
   "id": "c5866f95-98d1-44e5-8391-02f90f018907",
   "metadata": {},
   "outputs": [],
   "source": [
    "import sys\n",
    "import warnings\n",
    "import numpy as np\n",
    "import xarray as xr\n",
    "import xbudget\n",
    "import regionate\n",
    "import xwmt\n",
    "import xwmb\n",
    "\n",
    "sys.path.append(\"../examples/\")\n",
    "from loading import *"
   ]
  },
  {
   "cell_type": "code",
   "execution_count": 155,
   "id": "bd8b603d-d94a-462c-ad15-66d45a1d51ad",
   "metadata": {},
   "outputs": [],
   "source": [
    "lam = \"heat\"\n",
    "\n",
    "grid = load_baltic(\"natv\", \"hourly\")\n",
    "default_bins=True\n",
    "\n",
    "budgets_dict = xbudget.load_preset_budget(model=\"MOM6_3Donly\")\n",
    "xbudget.collect_budgets(grid._ds, budgets_dict)\n",
    "simple_budget = xbudget.aggregate(budgets_dict)\n",
    "\n",
    "# Note: the properties of this region are quite different from the rest of the Baltic!\n",
    "name = \"intBaltic\"\n",
    "lons = np.array([8.,   20.,  29., 24.5, 24.5, 26.1, 17.5, 11.5])\n",
    "lats = np.array([53.5, 53.5, 54.5,  59.,  61.,  63., 64.5,  62.])\n",
    "region = regionate.GriddedRegion(name, lons, lats, grid)\n",
    "\n",
    "with warnings.catch_warnings():\n",
    "    warnings.simplefilter(action='ignore', category=FutureWarning)\n",
    "    wmb = xwmb.WaterMassBudget(\n",
    "        grid,\n",
    "        budgets_dict,\n",
    "        region\n",
    "    )\n",
    "    wmb.mass_budget(lam, default_bins=default_bins)\n",
    "    wmt = wmb.wmt\n",
    "    wmt.load()"
   ]
  },
  {
   "cell_type": "code",
   "execution_count": 156,
   "id": "5a7bdff2-783b-44c7-b332-d89e0a8d894c",
   "metadata": {
    "tags": []
   },
   "outputs": [],
   "source": [
    "wmt.to_netcdf('../paper/data/baltic_wmb_natv_hourly_for_decompositions.nc')"
   ]
  },
  {
   "cell_type": "code",
   "execution_count": 157,
   "id": "2b812154-360b-42e1-974d-06e0f4a6ffe0",
   "metadata": {},
   "outputs": [
    {
     "name": "stderr",
     "output_type": "stream",
     "text": [
      "/work/hfd/.conda/envs/xwmb/lib/python3.10/site-packages/xarray/core/utils.py:494: FutureWarning: The return type of `Dataset.dims` will be changed to return a set of dimension names in future, in order to be more consistent with `DataArray.dims`. To access a mapping from dimension names to lengths, please use `Dataset.sizes`.\n",
      "  warnings.warn(\n",
      "/work/hfd/.conda/envs/xwmb/lib/python3.10/site-packages/xarray/core/utils.py:494: FutureWarning: The return type of `Dataset.dims` will be changed to return a set of dimension names in future, in order to be more consistent with `DataArray.dims`. To access a mapping from dimension names to lengths, please use `Dataset.sizes`.\n",
      "  warnings.warn(\n",
      "/work/hfd/.conda/envs/xwmb/lib/python3.10/site-packages/xarray/core/utils.py:494: FutureWarning: The return type of `Dataset.dims` will be changed to return a set of dimension names in future, in order to be more consistent with `DataArray.dims`. To access a mapping from dimension names to lengths, please use `Dataset.sizes`.\n",
      "  warnings.warn(\n",
      "/work/hfd/.conda/envs/xwmb/lib/python3.10/site-packages/xarray/core/utils.py:494: FutureWarning: The return type of `Dataset.dims` will be changed to return a set of dimension names in future, in order to be more consistent with `DataArray.dims`. To access a mapping from dimension names to lengths, please use `Dataset.sizes`.\n",
      "  warnings.warn(\n",
      "/work/hfd/.conda/envs/xwmb/lib/python3.10/site-packages/xarray/core/utils.py:494: FutureWarning: The return type of `Dataset.dims` will be changed to return a set of dimension names in future, in order to be more consistent with `DataArray.dims`. To access a mapping from dimension names to lengths, please use `Dataset.sizes`.\n",
      "  warnings.warn(\n",
      "/work/hfd/.conda/envs/xwmb/lib/python3.10/site-packages/xarray/core/utils.py:494: FutureWarning: The return type of `Dataset.dims` will be changed to return a set of dimension names in future, in order to be more consistent with `DataArray.dims`. To access a mapping from dimension names to lengths, please use `Dataset.sizes`.\n",
      "  warnings.warn(\n",
      "/work/hfd/.conda/envs/xwmb/lib/python3.10/site-packages/xarray/core/utils.py:494: FutureWarning: The return type of `Dataset.dims` will be changed to return a set of dimension names in future, in order to be more consistent with `DataArray.dims`. To access a mapping from dimension names to lengths, please use `Dataset.sizes`.\n",
      "  warnings.warn(\n",
      "/work/hfd/.conda/envs/xwmb/lib/python3.10/site-packages/xarray/core/utils.py:494: FutureWarning: The return type of `Dataset.dims` will be changed to return a set of dimension names in future, in order to be more consistent with `DataArray.dims`. To access a mapping from dimension names to lengths, please use `Dataset.sizes`.\n",
      "  warnings.warn(\n",
      "/work/hfd/.conda/envs/xwmb/lib/python3.10/site-packages/xarray/core/utils.py:494: FutureWarning: The return type of `Dataset.dims` will be changed to return a set of dimension names in future, in order to be more consistent with `DataArray.dims`. To access a mapping from dimension names to lengths, please use `Dataset.sizes`.\n",
      "  warnings.warn(\n",
      "/work/hfd/.conda/envs/xwmb/lib/python3.10/site-packages/xgcm/transform.py:245: FutureWarning: ``output_sizes`` should be given in the ``dask_gufunc_kwargs`` parameter. It will be removed as direct parameter in a future version.\n",
      "  out = xr.apply_ufunc(\n",
      "/work/hfd/.conda/envs/xwmb/lib/python3.10/site-packages/xarray/core/utils.py:494: FutureWarning: The return type of `Dataset.dims` will be changed to return a set of dimension names in future, in order to be more consistent with `DataArray.dims`. To access a mapping from dimension names to lengths, please use `Dataset.sizes`.\n",
      "  warnings.warn(\n",
      "/work/hfd/.conda/envs/xwmb/lib/python3.10/site-packages/xarray/core/utils.py:494: FutureWarning: The return type of `Dataset.dims` will be changed to return a set of dimension names in future, in order to be more consistent with `DataArray.dims`. To access a mapping from dimension names to lengths, please use `Dataset.sizes`.\n",
      "  warnings.warn(\n",
      "/work/hfd/.conda/envs/xwmb/lib/python3.10/site-packages/xgcm/transform.py:245: FutureWarning: ``output_sizes`` should be given in the ``dask_gufunc_kwargs`` parameter. It will be removed as direct parameter in a future version.\n",
      "  out = xr.apply_ufunc(\n",
      "/work/hfd/.conda/envs/xwmb/lib/python3.10/site-packages/xarray/core/utils.py:494: FutureWarning: The return type of `Dataset.dims` will be changed to return a set of dimension names in future, in order to be more consistent with `DataArray.dims`. To access a mapping from dimension names to lengths, please use `Dataset.sizes`.\n",
      "  warnings.warn(\n",
      "/work/hfd/.conda/envs/xwmb/lib/python3.10/site-packages/xgcm/transform.py:245: FutureWarning: ``output_sizes`` should be given in the ``dask_gufunc_kwargs`` parameter. It will be removed as direct parameter in a future version.\n",
      "  out = xr.apply_ufunc(\n",
      "/work/hfd/.conda/envs/xwmb/lib/python3.10/site-packages/xgcm/transform.py:245: FutureWarning: ``output_sizes`` should be given in the ``dask_gufunc_kwargs`` parameter. It will be removed as direct parameter in a future version.\n",
      "  out = xr.apply_ufunc(\n",
      "/work/hfd/.conda/envs/xwmb/lib/python3.10/site-packages/xarray/core/utils.py:494: FutureWarning: The return type of `Dataset.dims` will be changed to return a set of dimension names in future, in order to be more consistent with `DataArray.dims`. To access a mapping from dimension names to lengths, please use `Dataset.sizes`.\n",
      "  warnings.warn(\n",
      "/work/hfd/.conda/envs/xwmb/lib/python3.10/site-packages/xarray/core/utils.py:494: FutureWarning: The return type of `Dataset.dims` will be changed to return a set of dimension names in future, in order to be more consistent with `DataArray.dims`. To access a mapping from dimension names to lengths, please use `Dataset.sizes`.\n",
      "  warnings.warn(\n"
     ]
    }
   ],
   "source": [
    "lam_min, lam_max, dlam = -4.173, 40., 0.273519\n",
    "\n",
    "grid_newbins = xwmt.add_gridcoords(grid, {}, {})\n",
    "grid_newbins._ds = grid_newbins._ds.assign_coords({\n",
    "    f\"thetao_l_target\" : np.arange(lam_min, lam_max, dlam),\n",
    "    f\"thetao_i_target\" : np.arange(lam_min-dlam/2., lam_max+dlam/2, dlam),\n",
    "})\n",
    "grid_newbins = xwmt.add_gridcoords(\n",
    "    grid_newbins,\n",
    "    {\"Z_target\": {\"center\": \"thetao_l_target\", \"outer\": \"thetao_i_target\"}},\n",
    "    {\"Z_target\": \"extend\"}\n",
    ")\n",
    "\n",
    "wmb_newbins = xwmb.WaterMassBudget(\n",
    "    grid_newbins,\n",
    "    budgets_dict,\n",
    "    region\n",
    ")\n",
    "wmb_newbins.mass_budget(\"heat\")\n",
    "wmt_newbins = wmb_newbins.wmt\n",
    "wmt_newbins.load();"
   ]
  },
  {
   "cell_type": "code",
   "execution_count": 158,
   "id": "ca29cdcd-fdc7-42b3-8f12-c4a1c0133f0a",
   "metadata": {
    "tags": []
   },
   "outputs": [],
   "source": [
    "wmt_newbins.to_netcdf('../paper/data/baltic_wmb_natv_hourly_for_decompositions_newbins.nc')"
   ]
  },
  {
   "cell_type": "code",
   "execution_count": 159,
   "id": "a2e994e7-2ed1-4ffc-ab4d-1db82da69f1b",
   "metadata": {
    "tags": []
   },
   "outputs": [],
   "source": [
    "thetao0 = 2.5"
   ]
  },
  {
   "cell_type": "code",
   "execution_count": 160,
   "id": "6fc9dc8b-27f8-4ca0-b3ab-ee0118a7d015",
   "metadata": {},
   "outputs": [],
   "source": [
    "boundary_fluxes = [\n",
    "    'surface_exchange_flux',\n",
    "    'surface_ocean_flux_advective_negative_lhs',\n",
    "    'bottom_flux',\n",
    "    'frazil_ice'\n",
    "]\n",
    "\n",
    "with warnings.catch_warnings():\n",
    "    warnings.simplefilter(action='ignore', category=FutureWarning)\n",
    "    Gmix = wmb.map_transformations(\"heat\", term=\"diffusion\")['diffusion'].sel(thetao_l_target=thetao0, method=\"nearest\").compute()\n",
    "    GBC = sum([wmb.map_transformations(\"heat\", term=term)[term] for term in boundary_fluxes]).sel(thetao_l_target=thetao0, method=\"nearest\").compute()"
   ]
  },
  {
   "cell_type": "code",
   "execution_count": 161,
   "id": "733cb465-db21-4fad-8a33-34822008b435",
   "metadata": {},
   "outputs": [
    {
     "name": "stderr",
     "output_type": "stream",
     "text": [
      "/work/hfd/.conda/envs/xwmb/lib/python3.10/site-packages/xarray/core/utils.py:494: FutureWarning: The return type of `Dataset.dims` will be changed to return a set of dimension names in future, in order to be more consistent with `DataArray.dims`. To access a mapping from dimension names to lengths, please use `Dataset.sizes`.\n",
      "  warnings.warn(\n"
     ]
    }
   ],
   "source": [
    "ds = wmb.grid._ds\n",
    "\n",
    "lam_grid = Grid(\n",
    "    ds,\n",
    "    coords={'lam': wmb.target_coords,},\n",
    "    boundary={'lam': 'extend'},\n",
    "    autoparse_metadata=False\n",
    ")\n",
    "\n",
    "dt = ds.time_bounds.diff('time_bounds').astype('float')*1.e-9\n",
    "dmdt = lam_grid.interp(\n",
    "    (ds.mass_density_bounds_less_than.diff('time_bounds') / dt)\n",
    "    .rename({\"time_bounds\":\"time\"})\n",
    "    .assign_coords({'time': ds.time}),\n",
    "    \"lam\",\n",
    "    boundary=\"extend\"\n",
    ").sel(thetao_l_target=thetao0, method=\"nearest\").drop_vars(\"thetao_l_target\")"
   ]
  },
  {
   "cell_type": "code",
   "execution_count": 162,
   "id": "dfb7c0eb-b6cd-4ec0-a294-9e608d7e801c",
   "metadata": {
    "tags": []
   },
   "outputs": [],
   "source": [
    "xr.merge([\n",
    "    xr.Dataset({\"Gmix\":Gmix,\"GBC\":GBC, \"dmdt\":dmdt, \"mask\":region.mask}),\n",
    "    ds[['geolon_c', 'geolat_c', 'deptho']]\n",
    "]).to_netcdf(\"../paper/data/baltic_wmb_natv_hourly_maps.nc\")"
   ]
  },
  {
   "cell_type": "code",
   "execution_count": 163,
   "id": "86b407dd-1b8a-44ed-9e8b-3f6fa579d678",
   "metadata": {},
   "outputs": [
    {
     "name": "stderr",
     "output_type": "stream",
     "text": [
      "/work/hfd/.conda/envs/xwmb/lib/python3.10/site-packages/xarray/core/utils.py:494: FutureWarning: The return type of `Dataset.dims` will be changed to return a set of dimension names in future, in order to be more consistent with `DataArray.dims`. To access a mapping from dimension names to lengths, please use `Dataset.sizes`.\n",
      "  warnings.warn(\n"
     ]
    }
   ],
   "source": [
    "trans = lam_grid.interp(\n",
    "    ds.convergent_mass_transport_less_than,\n",
    "    \"lam\",\n",
    "    boundary=\"extend\"\n",
    ").sel(thetao_l_target=thetao0, method=\"nearest\").mean('time').compute()\n",
    "trans_mask = (ds.convergent_mass_transport_less_than.isel(thetao_i_target=-1).mean('time')).compute()"
   ]
  },
  {
   "cell_type": "code",
   "execution_count": 164,
   "id": "c50b91b2-c1a0-4433-b77c-50a5196ffcda",
   "metadata": {
    "tags": []
   },
   "outputs": [],
   "source": [
    "xr.Dataset({\n",
    "    \"region_lons\": xr.DataArray(region.lons, dims=(\"sect_vertices\",)),\n",
    "    \"region_lats\": xr.DataArray(region.lats, dims=(\"sect_vertices\",)),\n",
    "    \"convergent_transport\": trans,\n",
    "    \"convergent_transport_mask\": trans_mask.drop_vars(\"thetao_i_target\")\n",
    "}).to_netcdf(\"../paper/data/baltic_wmb_natv_hourly_boundary_transport.nc\")"
   ]
  },
  {
   "cell_type": "code",
   "execution_count": null,
   "id": "c0d18bbf-d9d3-4cab-983b-6141c2294c3d",
   "metadata": {},
   "outputs": [],
   "source": []
  }
 ],
 "metadata": {
  "kernelspec": {
   "display_name": "xwmb",
   "language": "python",
   "name": "xwmb"
  },
  "language_info": {
   "codemirror_mode": {
    "name": "ipython",
    "version": 3
   },
   "file_extension": ".py",
   "mimetype": "text/x-python",
   "name": "python",
   "nbconvert_exporter": "python",
   "pygments_lexer": "ipython3",
   "version": "3.10.13"
  }
 },
 "nbformat": 4,
 "nbformat_minor": 5
}
