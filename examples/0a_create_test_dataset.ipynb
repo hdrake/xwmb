{
 "cells": [
  {
   "cell_type": "code",
   "execution_count": 1,
   "id": "182a8d3a-09f8-448e-a029-d03db69bbe44",
   "metadata": {},
   "outputs": [],
   "source": [
    "%load_ext autoreload\n",
    "%autoreload 2"
   ]
  },
  {
   "cell_type": "code",
   "execution_count": 2,
   "id": "99c3a046-9435-46a6-b9c2-81becd029d93",
   "metadata": {},
   "outputs": [],
   "source": [
    "import warnings\n",
    "\n",
    "import numpy as np\n",
    "import gsw\n",
    "import xarray as xr\n",
    "from xgcm import Grid\n",
    "from xhistogram.xarray import histogram\n",
    "from dask.diagnostics import ProgressBar\n",
    "\n",
    "import pandas as pd\n",
    "import geopandas as gpd\n",
    "from shapely.geometry import Polygon\n",
    "import regionmask\n",
    "\n",
    "import matplotlib\n",
    "import matplotlib as mpl\n",
    "import matplotlib.pyplot as plt\n",
    "import cmocean\n",
    "\n",
    "import cartopy.crs as ccrs\n",
    "import cartopy.feature as cfeature\n",
    "data_crs = ccrs.PlateCarree()"
   ]
  },
  {
   "cell_type": "code",
   "execution_count": 4,
   "id": "0b71a055-e428-4a25-9edb-45ea25ce9b95",
   "metadata": {},
   "outputs": [],
   "source": [
    "import xwmb\n",
    "import sectionate as sec\n",
    "import regionate as reg"
   ]
  },
  {
   "cell_type": "code",
   "execution_count": 5,
   "id": "8a988716-2485-436f-be76-05d2f513694b",
   "metadata": {},
   "outputs": [],
   "source": [
    "import dask"
   ]
  },
  {
   "cell_type": "markdown",
   "id": "2f73cabd-5dab-44f4-91de-9d8c6a0d6f92",
   "metadata": {},
   "source": [
    "### Load grids and data"
   ]
  },
  {
   "cell_type": "code",
   "execution_count": 6,
   "id": "aa99ea92-986b-47d4-a387-1ab5dd951056",
   "metadata": {},
   "outputs": [],
   "source": [
    "gridname = 'zstr'\n",
    "dt = '6hourly' # choose from ['monthly', '6hourly', 'timestp']\n",
    "\n",
    "# Load data on native grid\n",
    "rootdir = '/archive/gam/MOM6-examples/ice_ocean_SIS2/Baltic_OM4_025/ocean_'+dt+'/'\n",
    "prefix = '19000101.ocean_'+dt+'_'\n",
    "time = \"190*_*\"\n",
    "\n",
    "# Diagnostics were saved into different files\n",
    "suffixs = ['thck','heat','salt','xtra']\n",
    "Zprefixes = {'rho2':'rho2_', 'zstr':'z_', 'natv':'z'}\n",
    "Zprefix = Zprefixes[gridname]\n",
    "ds = xr.Dataset()\n",
    "for suffix in suffixs:\n",
    "    filename = prefix+gridname+'_'+suffix+'_'+time+'*.nc'\n",
    "    dsnow = xr.open_mfdataset(rootdir+filename)\n",
    "    ds = xr.merge([ds,dsnow])\n",
    "\n",
    "# Load surface fluxes\n",
    "filename = prefix+'natv_surf_'+time+'*.nc'\n",
    "surf = xr.open_mfdataset(rootdir+filename)\n",
    "ds = xr.merge([ds, surf])\n",
    "    \n",
    "# Load snapshot data (for mass tendency term)\n",
    "suffix = 'snap'\n",
    "filename = prefix+gridname+'_'+suffix+'_'+time+'*.nc'\n",
    "snap = xr.open_mfdataset(rootdir+filename)\n",
    "\n",
    "#  Load grid\n",
    "oceangridname = '19000101.ocean_static.nc'\n",
    "grid = xr.open_dataset(rootdir+oceangridname).squeeze()\n",
    "\n",
    "# Cut off the first time-averaged entry in ds, because snap does not come with the initial condition\n",
    "ds = ds.isel(time=slice(1,None))\n",
    "\n",
    "# Some renaming to match hdrake conventions\n",
    "ocean_grid = grid.copy().rename({'depth_ocean':'deptho'})\n",
    "ds = ds.rename({'temp':'thetao'})\n",
    "snap = snap.rename({'temp':'thetao'})\n",
    "\n",
    "# z-coordinate dataset containing basic state variables\n",
    "grid = Grid(ds, coords={'X': {'center': 'xh', 'right': 'xq'},\n",
    "                        'Y': {'center': 'yh', 'right': 'yq'},\n",
    "                        'Z': {'center': f'{Zprefix}l', 'outer': f'{Zprefix}i'} },\n",
    "           periodic=None)\n",
    "\n",
    "# z-coordinate dataset containing basic state variables\n",
    "grid_snap = Grid(snap, coords={'X': {'center': 'xh',},\n",
    "                        'Y': {'center': 'yh',},\n",
    "                        'Z': {'center': f'{Zprefix}l', 'outer': f'{Zprefix}i'} },\n",
    "           periodic=None)"
   ]
  },
  {
   "cell_type": "code",
   "execution_count": 7,
   "id": "b41b4cb7-143c-4a28-8dd9-af1541d89e55",
   "metadata": {},
   "outputs": [],
   "source": [
    "ds = ds.sel(time=slice('1900-02-01 00', '1901-02-01 00'))\n",
    "snap = snap.sel(time=slice('1900-02-01 00', '1901-02-01 00'))"
   ]
  },
  {
   "cell_type": "markdown",
   "id": "ff4a1282-40ea-4ce2-8dc3-6c4e948ae554",
   "metadata": {},
   "source": [
    "## Just pick the first few timesteps for testing!!!"
   ]
  },
  {
   "cell_type": "code",
   "execution_count": 8,
   "id": "ac3ad3eb-6aa4-41b2-8ccb-2f569baab376",
   "metadata": {},
   "outputs": [],
   "source": [
    "ds = ds.isel(time=[0])\n",
    "ds.time.attrs = {}\n",
    "snap = snap.isel(time=[0,1])\n",
    "snap.time.attrs = {}"
   ]
  },
  {
   "cell_type": "code",
   "execution_count": 10,
   "id": "d261fc8f-1a08-44ca-83c6-a9cb106fa752",
   "metadata": {},
   "outputs": [],
   "source": [
    "ds.to_netcdf(\"../data/baltic_example_ds.nc\", mode=\"w\", engine=\"netcdf4\")"
   ]
  },
  {
   "cell_type": "code",
   "execution_count": 11,
   "id": "47e4d84e-2d17-4f8e-b8ee-df9f389c2eb0",
   "metadata": {},
   "outputs": [],
   "source": [
    "snap.to_netcdf(\"../data/baltic_example_snap.nc\", mode=\"w\", engine=\"netcdf4\")"
   ]
  },
  {
   "cell_type": "code",
   "execution_count": null,
   "id": "13867e55-e91c-4e8c-8d19-72be473092cd",
   "metadata": {},
   "outputs": [],
   "source": []
  }
 ],
 "metadata": {
  "kernelspec": {
   "display_name": "Python 3 (ipykernel)",
   "language": "python",
   "name": "python3"
  },
  "language_info": {
   "codemirror_mode": {
    "name": "ipython",
    "version": 3
   },
   "file_extension": ".py",
   "mimetype": "text/x-python",
   "name": "python",
   "nbconvert_exporter": "python",
   "pygments_lexer": "ipython3",
   "version": "3.10.6"
  }
 },
 "nbformat": 4,
 "nbformat_minor": 5
}
